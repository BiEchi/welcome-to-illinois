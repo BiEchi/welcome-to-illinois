{
 "cells": [
  {
   "cell_type": "code",
   "execution_count": 3,
   "metadata": {},
   "outputs": [],
   "source": [
    "import cv2\n",
    "import numpy as np\n",
    "import matplotlib.pyplot as plt"
   ]
  },
  {
   "cell_type": "code",
   "execution_count": 4,
   "metadata": {},
   "outputs": [],
   "source": [
    "def mouseListener(event,x,y,flags,param):\n",
    "    if event == cv2.EVENT_LBUTTONDOWN:\n",
    "        print(x,y)\n",
    "        name = input(\"name: \")\n",
    "        print(f\"({x},{y}):\", name)\n",
    "        points.append([x, y, name])\n",
    "img = cv2.imread(\"chan.png\")\n",
    "cv2.imshow(\"test222\", img)\n",
    "cv2.setMouseCallback('test222', mouseListener)\n",
    "cv2.waitKey(0)\n",
    "cv2.destroyAllWindows()"
   ]
  },
  {
   "cell_type": "code",
   "execution_count": 1,
   "metadata": {},
   "outputs": [
    {
     "ename": "NameError",
     "evalue": "name 'cv2' is not defined",
     "output_type": "error",
     "traceback": [
      "\u001b[0;31m---------------------------------------------------------------------------\u001b[0m",
      "\u001b[0;31mNameError\u001b[0m                                 Traceback (most recent call last)",
      "\u001b[0;32m/tmp/ipykernel_21887/3896132947.py\u001b[0m in \u001b[0;36m<module>\u001b[0;34m\u001b[0m\n\u001b[0;32m----> 1\u001b[0;31m \u001b[0mimg\u001b[0m \u001b[0;34m=\u001b[0m \u001b[0mcv2\u001b[0m\u001b[0;34m.\u001b[0m\u001b[0mimread\u001b[0m\u001b[0;34m(\u001b[0m\u001b[0;34m\"chan.png\"\u001b[0m\u001b[0;34m)\u001b[0m\u001b[0;34m\u001b[0m\u001b[0;34m\u001b[0m\u001b[0m\n\u001b[0m\u001b[1;32m      2\u001b[0m \u001b[0;32mfor\u001b[0m \u001b[0mpoint\u001b[0m \u001b[0;32min\u001b[0m \u001b[0mpoints\u001b[0m\u001b[0;34m:\u001b[0m\u001b[0;34m\u001b[0m\u001b[0;34m\u001b[0m\u001b[0m\n\u001b[1;32m      3\u001b[0m     \u001b[0mcv2\u001b[0m\u001b[0;34m.\u001b[0m\u001b[0mcircle\u001b[0m\u001b[0;34m(\u001b[0m\u001b[0mimg\u001b[0m\u001b[0;34m,\u001b[0m \u001b[0;34m(\u001b[0m\u001b[0mpoint\u001b[0m\u001b[0;34m[\u001b[0m\u001b[0;36m0\u001b[0m\u001b[0;34m]\u001b[0m\u001b[0;34m,\u001b[0m \u001b[0mpoint\u001b[0m\u001b[0;34m[\u001b[0m\u001b[0;36m1\u001b[0m\u001b[0;34m]\u001b[0m\u001b[0;34m)\u001b[0m\u001b[0;34m,\u001b[0m \u001b[0;36m20\u001b[0m\u001b[0;34m,\u001b[0m \u001b[0;34m(\u001b[0m\u001b[0;36m255\u001b[0m\u001b[0;34m,\u001b[0m\u001b[0;36m0\u001b[0m\u001b[0;34m,\u001b[0m\u001b[0;36m0\u001b[0m\u001b[0;34m)\u001b[0m\u001b[0;34m)\u001b[0m\u001b[0;34m\u001b[0m\u001b[0;34m\u001b[0m\u001b[0m\n\u001b[1;32m      4\u001b[0m \u001b[0mcv2\u001b[0m\u001b[0;34m.\u001b[0m\u001b[0mimshow\u001b[0m\u001b[0;34m(\u001b[0m\u001b[0;34m\"test22\"\u001b[0m\u001b[0;34m,\u001b[0m \u001b[0mimg\u001b[0m\u001b[0;34m)\u001b[0m\u001b[0;34m\u001b[0m\u001b[0;34m\u001b[0m\u001b[0m\n\u001b[1;32m      5\u001b[0m \u001b[0mcv2\u001b[0m\u001b[0;34m.\u001b[0m\u001b[0mwaitKey\u001b[0m\u001b[0;34m(\u001b[0m\u001b[0;36m0\u001b[0m\u001b[0;34m)\u001b[0m\u001b[0;34m\u001b[0m\u001b[0;34m\u001b[0m\u001b[0m\n",
      "\u001b[0;31mNameError\u001b[0m: name 'cv2' is not defined"
     ]
    }
   ],
   "source": [
    "img = cv2.imread(\"chan.png\")\n",
    "for point in points:\n",
    "    cv2.circle(img, (point[0], point[1]), 20, (255,0,0))\n",
    "cv2.imshow(\"test22\", img)\n",
    "cv2.waitKey(0)\n",
    "cv2.destroyAllWindows()"
   ]
  },
  {
   "cell_type": "code",
   "execution_count": 5,
   "metadata": {},
   "outputs": [],
   "source": [
    "edges = []"
   ]
  },
  {
   "cell_type": "code",
   "execution_count": 6,
   "metadata": {},
   "outputs": [
    {
     "ename": "NameError",
     "evalue": "name 'points' is not defined",
     "output_type": "error",
     "traceback": [
      "\u001b[0;31m---------------------------------------------------------------------------\u001b[0m",
      "\u001b[0;31mNameError\u001b[0m                                 Traceback (most recent call last)",
      "\u001b[0;32m/tmp/ipykernel_138086/3701740350.py\u001b[0m in \u001b[0;36m<module>\u001b[0;34m\u001b[0m\n\u001b[1;32m      2\u001b[0m \u001b[0mk\u001b[0m \u001b[0;34m=\u001b[0m \u001b[0;34m-\u001b[0m\u001b[0;36m1\u001b[0m\u001b[0;34m\u001b[0m\u001b[0;34m\u001b[0m\u001b[0m\n\u001b[1;32m      3\u001b[0m \u001b[0mkk\u001b[0m \u001b[0;34m=\u001b[0m \u001b[0;34m-\u001b[0m\u001b[0;36m1\u001b[0m\u001b[0;34m\u001b[0m\u001b[0;34m\u001b[0m\u001b[0m\n\u001b[0;32m----> 4\u001b[0;31m \u001b[0mpoint_arr\u001b[0m \u001b[0;34m=\u001b[0m \u001b[0mnp\u001b[0m\u001b[0;34m.\u001b[0m\u001b[0marray\u001b[0m\u001b[0;34m(\u001b[0m\u001b[0;34m[\u001b[0m\u001b[0mpoint\u001b[0m\u001b[0;34m[\u001b[0m\u001b[0;34m:\u001b[0m\u001b[0;36m2\u001b[0m\u001b[0;34m]\u001b[0m \u001b[0;32mfor\u001b[0m \u001b[0mpoint\u001b[0m \u001b[0;32min\u001b[0m \u001b[0mpoints\u001b[0m\u001b[0;34m]\u001b[0m\u001b[0;34m)\u001b[0m\u001b[0;34m\u001b[0m\u001b[0;34m\u001b[0m\u001b[0m\n\u001b[0m\u001b[1;32m      5\u001b[0m \u001b[0;34m\u001b[0m\u001b[0m\n\u001b[1;32m      6\u001b[0m \u001b[0mimg\u001b[0m \u001b[0;34m=\u001b[0m \u001b[0mcv2\u001b[0m\u001b[0;34m.\u001b[0m\u001b[0mimread\u001b[0m\u001b[0;34m(\u001b[0m\u001b[0;34m\"chan.png\"\u001b[0m\u001b[0;34m)\u001b[0m\u001b[0;34m\u001b[0m\u001b[0;34m\u001b[0m\u001b[0m\n",
      "\u001b[0;31mNameError\u001b[0m: name 'points' is not defined"
     ]
    }
   ],
   "source": [
    "first = True\n",
    "k = -1\n",
    "kk = -1\n",
    "point_arr = np.array([point[:2] for point in points])\n",
    "\n",
    "img = cv2.imread(\"chan.png\")\n",
    "for point in points:\n",
    "    cv2.circle(img, (point[0], point[1]), 20, (255,0,0))\n",
    "for edge in edges:\n",
    "    start = points[edge[0]][:2]\n",
    "    end = points[edge[1]][:2]\n",
    "    cv2.line(img, start,end,(0,0,255), 3)\n",
    "    \n",
    "def mouseListener(event,x,y,flags,param):\n",
    "    global first, k, kk\n",
    "    if event == cv2.EVENT_LBUTTONDOWN:\n",
    "        if first:\n",
    "            mouse_pt = np.array([x,y])\n",
    "            k = np.argmin(np.abs(point_arr-mouse_pt).mean(1))\n",
    "            print(\"from\", points[k])\n",
    "            first = False\n",
    "        else:\n",
    "            mouse_pt = np.array([x,y])\n",
    "            kk = np.argmin(np.abs(point_arr-mouse_pt).mean(1))\n",
    "            print(\"to\", points[kk])\n",
    "            first = True\n",
    "            edges.append([k, kk])\n",
    "            print(\"add\", edges[-1])\n",
    "            print(\"-\"*50)\n",
    "cv2.imshow(\"test222\", img)\n",
    "cv2.setMouseCallback('test222', mouseListener)\n",
    "cv2.waitKey(0)\n",
    "cv2.destroyAllWindows()"
   ]
  },
  {
   "cell_type": "code",
   "execution_count": 7,
   "metadata": {},
   "outputs": [],
   "source": [
    "np.save(\"edges\", edges)"
   ]
  },
  {
   "cell_type": "code",
   "execution_count": 8,
   "metadata": {},
   "outputs": [
    {
     "ename": "NameError",
     "evalue": "name 'points' is not defined",
     "output_type": "error",
     "traceback": [
      "\u001b[0;31m---------------------------------------------------------------------------\u001b[0m",
      "\u001b[0;31mNameError\u001b[0m                                 Traceback (most recent call last)",
      "\u001b[0;32m/tmp/ipykernel_138086/1952880773.py\u001b[0m in \u001b[0;36m<module>\u001b[0;34m\u001b[0m\n\u001b[1;32m      1\u001b[0m \u001b[0mimg\u001b[0m \u001b[0;34m=\u001b[0m \u001b[0mcv2\u001b[0m\u001b[0;34m.\u001b[0m\u001b[0mimread\u001b[0m\u001b[0;34m(\u001b[0m\u001b[0;34m\"chan.png\"\u001b[0m\u001b[0;34m)\u001b[0m\u001b[0;34m\u001b[0m\u001b[0;34m\u001b[0m\u001b[0m\n\u001b[0;32m----> 2\u001b[0;31m \u001b[0;32mfor\u001b[0m \u001b[0mpoint\u001b[0m \u001b[0;32min\u001b[0m \u001b[0mpoints\u001b[0m\u001b[0;34m:\u001b[0m\u001b[0;34m\u001b[0m\u001b[0;34m\u001b[0m\u001b[0m\n\u001b[0m\u001b[1;32m      3\u001b[0m     \u001b[0mcv2\u001b[0m\u001b[0;34m.\u001b[0m\u001b[0mcircle\u001b[0m\u001b[0;34m(\u001b[0m\u001b[0mimg\u001b[0m\u001b[0;34m,\u001b[0m \u001b[0;34m(\u001b[0m\u001b[0mpoint\u001b[0m\u001b[0;34m[\u001b[0m\u001b[0;36m0\u001b[0m\u001b[0;34m]\u001b[0m\u001b[0;34m,\u001b[0m \u001b[0mpoint\u001b[0m\u001b[0;34m[\u001b[0m\u001b[0;36m1\u001b[0m\u001b[0;34m]\u001b[0m\u001b[0;34m)\u001b[0m\u001b[0;34m,\u001b[0m \u001b[0;36m20\u001b[0m\u001b[0;34m,\u001b[0m \u001b[0;34m(\u001b[0m\u001b[0;36m255\u001b[0m\u001b[0;34m,\u001b[0m\u001b[0;36m0\u001b[0m\u001b[0;34m,\u001b[0m\u001b[0;36m0\u001b[0m\u001b[0;34m)\u001b[0m\u001b[0;34m)\u001b[0m\u001b[0;34m\u001b[0m\u001b[0;34m\u001b[0m\u001b[0m\n\u001b[1;32m      4\u001b[0m \u001b[0;32mfor\u001b[0m \u001b[0medge\u001b[0m \u001b[0;32min\u001b[0m \u001b[0medges\u001b[0m\u001b[0;34m:\u001b[0m\u001b[0;34m\u001b[0m\u001b[0;34m\u001b[0m\u001b[0m\n\u001b[1;32m      5\u001b[0m     \u001b[0mstart\u001b[0m \u001b[0;34m=\u001b[0m \u001b[0mpoints\u001b[0m\u001b[0;34m[\u001b[0m\u001b[0medge\u001b[0m\u001b[0;34m[\u001b[0m\u001b[0;36m0\u001b[0m\u001b[0;34m]\u001b[0m\u001b[0;34m]\u001b[0m\u001b[0;34m[\u001b[0m\u001b[0;34m:\u001b[0m\u001b[0;36m2\u001b[0m\u001b[0;34m]\u001b[0m\u001b[0;34m\u001b[0m\u001b[0;34m\u001b[0m\u001b[0m\n",
      "\u001b[0;31mNameError\u001b[0m: name 'points' is not defined"
     ]
    }
   ],
   "source": [
    "img = cv2.imread(\"chan.png\")\n",
    "for point in points:\n",
    "    cv2.circle(img, (point[0], point[1]), 20, (255,0,0))\n",
    "for edge in edges:\n",
    "    start = points[edge[0]][:2]\n",
    "    end = points[edge[1]][:2]\n",
    "    cv2.line(img, start,end,(0,0,255), 3)\n",
    "cv2.imshow(\"test22222\", img)\n",
    "cv2.waitKey(0)\n",
    "cv2.destroyAllWindows()"
   ]
  },
  {
   "cell_type": "code",
   "execution_count": null,
   "metadata": {},
   "outputs": [
    {
     "data": {
      "text/plain": [
       "True"
      ]
     },
     "execution_count": 104,
     "metadata": {},
     "output_type": "execute_result"
    }
   ],
   "source": [
    "img = cv2.imread(\"chan.png\")\n",
    "map = np.zeros(img.shape)\n",
    "for point in points:\n",
    "    cv2.circle(map, (point[0], point[1]), 10, (255,0,0), -1)\n",
    "    cv2.putText(map, point[-1], (point[0]-10, point[1]-10), cv2.FONT_HERSHEY_SCRIPT_COMPLEX, 0.5, (255,255,255))\n",
    "for edge in edges:\n",
    "    start = points[edge[0]][:2]\n",
    "    end = points[edge[1]][:2]\n",
    "    cv2.line(map, start,end, (0,0,255), 3)\n",
    "cv2.imshow(\"222\", map)\n",
    "cv2.waitKey(0)\n",
    "cv2.destroyAllWindows()\n",
    "cv2.imwrite(\"result.png\", map)"
   ]
  },
  {
   "cell_type": "code",
   "execution_count": null,
   "metadata": {},
   "outputs": [
    {
     "data": {
      "text/plain": [
       "[[14, 33, 'Elmwood'],\n",
       " [31, 75, 'Elm'],\n",
       " [63, 138, 'Glasford'],\n",
       " [73, 214, 'Manito'],\n",
       " [47, 424, 'Petersburg'],\n",
       " [27, 574, 'New Berlin'],\n",
       " [80, 564, 'Curran'],\n",
       " [87, 569, 'Cockrell'],\n",
       " [106, 563, 'Jct'],\n",
       " [108, 598, 'Chaham'],\n",
       " [123, 548, 'lles'],\n",
       " [142, 522, 'Starnes'],\n",
       " [168, 510, 'Riverton'],\n",
       " [143, 488, 'Sherman'],\n",
       " [106, 459, 'Barr Station'],\n",
       " [97, 452, 'Athens'],\n",
       " [126, 323, 'Luther'],\n",
       " [127, 222, 'Green Valley'],\n",
       " [125, 179, 'South Pekin'],\n",
       " [116, 151, 'Powerton'],\n",
       " [71, 74, 'Hanna City'],\n",
       " [157, 12, 'Mossville'],\n",
       " [152, 87, 'East Peoria'],\n",
       " [166, 239, 'Delavan'],\n",
       " [182, 93, 'Farmdale'],\n",
       " [215, 70, 'Washington'],\n",
       " [274, 59, 'Eureka'],\n",
       " [368, 51, 'El Paso'],\n",
       " [241, 353, 'Lincoin'],\n",
       " [264, 429, 'Mt. Pulaski'],\n",
       " [281, 508, 'Illiopoils'],\n",
       " [340, 509, 'Harristown'],\n",
       " [398, 510, 'Decatur'],\n",
       " [353, 467, 'Warrensburg'],\n",
       " [344, 383, 'Kenney'],\n",
       " [387, 354, 'Clinton'],\n",
       " [389, 273, 'Heyworth'],\n",
       " [287, 298, 'Atlanta'],\n",
       " [375, 185, 'Bloomington'],\n",
       " [320, 130, 'Carlock'],\n",
       " [209, 105, 'Crandall'],\n",
       " [460, 100, 'Lexington'],\n",
       " [484, 48, 'Chenoa'],\n",
       " [380, 574, 'Macon'],\n",
       " [328, 591, 'Blue Mound'],\n",
       " [366, 545, 'Boody'],\n",
       " [433, 554, 'Hervey City'],\n",
       " [436, 526, 'Long Creek'],\n",
       " [586, 533, 'Atwood'],\n",
       " [582, 577, 'Arthur'],\n",
       " [659, 530, 'Tuscola'],\n",
       " [653, 584, 'Arcola'],\n",
       " [737, 530, 'Murdock'],\n",
       " [774, 529, 'Newman'],\n",
       " [849, 526, 'Metcalf'],\n",
       " [895, 525, 'Chrisman'],\n",
       " [961, 523, 'West Dana'],\n",
       " [902, 476, 'Ridge Farm'],\n",
       " [911, 412, 'Westville'],\n",
       " [908, 372, 'Tilton'],\n",
       " [917, 355, 'Danville'],\n",
       " [843, 304, 'Collison'],\n",
       " [884, 265, 'Henning'],\n",
       " [894, 225, 'Rossville'],\n",
       " [893, 182, 'Hoopston'],\n",
       " [881, 95, 'Milford'],\n",
       " [870, 65, 'Woodland Jct.'],\n",
       " [864, 20, 'Watseka'],\n",
       " [915, 24, 'Webster'],\n",
       " [931, 23, 'Sheldon'],\n",
       " [763, 28, 'Gilman'],\n",
       " [759, 59, 'Onarga'],\n",
       " [729, 189, 'Paxton'],\n",
       " [704, 265, 'Rantoul'],\n",
       " [736, 262, 'Dillsburg'],\n",
       " [633, 262, 'Fisher'],\n",
       " [695, 296, 'Thomasboro'],\n",
       " [685, 369, 'Urbana'],\n",
       " [608, 373, 'Champaign'],\n",
       " [672, 406, 'Savoy'],\n",
       " [665, 434, 'Tolono'],\n",
       " [743, 411, 'Sidney'],\n",
       " [781, 406, 'Homer'],\n",
       " [763, 369, 'Glover'],\n",
       " [847, 132, 'Goodwine'],\n",
       " [806, 133, 'Cissna Park'],\n",
       " [713, 495, 'Villa Grove'],\n",
       " [770, 471, 'Boradland'],\n",
       " [543, 469, 'Bement'],\n",
       " [479, 486, 'Cerro Gordo'],\n",
       " [484, 424, 'Cisco'],\n",
       " [542, 411, 'Monticello'],\n",
       " [550, 373, 'Lodge'],\n",
       " [569, 320, 'Mansfield'],\n",
       " [583, 264, 'Lotus'],\n",
       " [618, 189, 'Gibson City'],\n",
       " [666, 135, 'Melvin'],\n",
       " [468, 251, 'Le Roy'],\n",
       " [527, 198, 'Arrowsmith'],\n",
       " [601, 88, 'Risk'],\n",
       " [523, 138, 'Colfax'],\n",
       " [647, 37, 'Chatsworth'],\n",
       " [605, 39, 'Forrest'],\n",
       " [555, 45, 'Fairbury'],\n",
       " [516, 303, 'Farmer City']]"
      ]
     },
     "execution_count": 105,
     "metadata": {},
     "output_type": "execute_result"
    }
   ],
   "source": [
    "np.save(\"point-v1\")"
   ]
  },
  {
   "cell_type": "code",
   "execution_count": 2,
   "metadata": {},
   "outputs": [
    {
     "ename": "NameError",
     "evalue": "name 'points' is not defined",
     "output_type": "error",
     "traceback": [
      "\u001b[0;31m---------------------------------------------------------------------------\u001b[0m",
      "\u001b[0;31mNameError\u001b[0m                                 Traceback (most recent call last)",
      "\u001b[0;32m/tmp/ipykernel_143739/1845125013.py\u001b[0m in \u001b[0;36m<module>\u001b[0;34m\u001b[0m\n\u001b[0;32m----> 1\u001b[0;31m \u001b[0mnp\u001b[0m\u001b[0;34m.\u001b[0m\u001b[0msave\u001b[0m\u001b[0;34m(\u001b[0m\u001b[0;34m\"point-v1\"\u001b[0m\u001b[0;34m,\u001b[0m \u001b[0mpoints\u001b[0m\u001b[0;34m)\u001b[0m\u001b[0;34m\u001b[0m\u001b[0;34m\u001b[0m\u001b[0m\n\u001b[0m\u001b[1;32m      2\u001b[0m \u001b[0mnp\u001b[0m\u001b[0;34m.\u001b[0m\u001b[0msave\u001b[0m\u001b[0;34m(\u001b[0m\u001b[0;34m\"edge-v1\"\u001b[0m\u001b[0;34m,\u001b[0m \u001b[0medges\u001b[0m\u001b[0;34m)\u001b[0m\u001b[0;34m\u001b[0m\u001b[0;34m\u001b[0m\u001b[0m\n",
      "\u001b[0;31mNameError\u001b[0m: name 'points' is not defined"
     ]
    }
   ],
   "source": [
    "np.save(\"point-v1\", points)\n",
    "np.save(\"edge-v1\", edges)"
   ]
  },
  {
   "cell_type": "code",
   "execution_count": null,
   "metadata": {},
   "outputs": [
    {
     "data": {
      "text/plain": [
       "True"
      ]
     },
     "execution_count": 150,
     "metadata": {},
     "output_type": "execute_result"
    }
   ],
   "source": [
    "img = cv2.imread(\"chan.png\")\n",
    "points = np.load(\"./point-final.npy\")\n",
    "edges =  np.load(\"./edge-final.npy\")\n",
    "points, city = points[:,:2].astype(int), points[:,-1]\n",
    "map = np.ones((480, 640, 3)) * 255\n",
    "scale = 640.0 / 1000.0\n",
    "points = (points*scale).astype(int)\n",
    "points[:,1] += 80\n",
    "points[:,0] += 5\n",
    "for edge in edges:\n",
    "    start = points[edge[0]][:2]\n",
    "    end = points[edge[1]][:2]\n",
    "    cv2.line(map, start, end, (0,0,255), 2)\n",
    "for i, point in enumerate(points):\n",
    "    cv2.circle(map, (point[0], point[1]), 5, (0, 0, 0), -1)\n",
    "\n",
    "FONT_SIZE = 0.38\n",
    "for i, point in enumerate(points):\n",
    "    if point[0] > 320:\n",
    "        cv2.putText(map, city[i][:3], (point[0]-20, point[1]+12), cv2.FONT_HERSHEY_COMPLEX, FONT_SIZE, (255,0,0))\n",
    "    else:\n",
    "        if point[1] > 240:\n",
    "            cv2.putText(map, city[i][:3], (point[0]+5, point[1]+5), cv2.FONT_HERSHEY_COMPLEX, FONT_SIZE, (255,0,0))\n",
    "        else:\n",
    "            cv2.putText(map, city[i][:3], (point[0]-5, point[1]-5), cv2.FONT_HERSHEY_COMPLEX, FONT_SIZE, (255,0,0))\n",
    "\n",
    "cv2.imshow(\"222\", map)\n",
    "cv2.waitKey(0)\n",
    "cv2.destroyAllWindows()\n",
    "cv2.imwrite(\"map.bmp\", map)"
   ]
  },
  {
   "cell_type": "code",
   "execution_count": 4,
   "metadata": {},
   "outputs": [
    {
     "name": "stdout",
     "output_type": "stream",
     "text": [
      "97 97\n"
     ]
    }
   ],
   "source": [
    "img = cv2.imread(\"chan.png\")\n",
    "points = np.load(\"./point-final.npy\")\n",
    "edges =  np.load(\"./edge-final.npy\")\n",
    "points, city = points[:,:2].astype(int), points[:,-1]\n",
    "points = points.tolist()\n",
    "city = city.tolist()\n",
    "edges = edges.tolist()\n",
    "print(len(points), len(city))\n",
    "find = False\n",
    "for kk, c in enumerate(city):\n",
    "    if c.startswith(\"Ath\"):\n",
    "        print(kk, c)\n",
    "        del points[kk]\n",
    "        del city[kk]\n",
    "        find = True\n",
    "        break\n",
    "\n",
    "if find:\n",
    "    for i in range(len(edges)):\n",
    "        if edges[i][0] == kk or edges[i][1] == kk:\n",
    "            del edges[i]\n",
    "            break\n",
    "    for i in range(len(edges)):\n",
    "        if edges[i][0] > kk:\n",
    "            edges[i][0] -= 1\n",
    "        if edges[i][1] > kk:\n",
    "            edges[i][1] -= 1\n",
    "\n",
    "map = np.ones(img.shape) * 255\n",
    "for edge in edges:\n",
    "    start = points[edge[0]][:2]\n",
    "    end = points[edge[1]][:2]\n",
    "    cv2.line(map, start,end, (0,0,255), 3)\n",
    "for i, point in enumerate(points):\n",
    "    cv2.circle(map, (point[0], point[1]), 5, (0, 0, 0), -1)\n",
    "for i, point in enumerate(points):\n",
    "    cv2.putText(map, city[i][:3], (point[0]-20, point[1]-10), cv2.FONT_HERSHEY_COMPLEX, 0.5, (255,0,0))\n",
    "cv2.imshow(\"222\", map)\n",
    "cv2.waitKey(0)\n",
    "cv2.destroyAllWindows()\n",
    "print(len(points), len(city))"
   ]
  },
  {
   "cell_type": "code",
   "execution_count": 1,
   "metadata": {},
   "outputs": [
    {
     "ename": "NameError",
     "evalue": "name 'points' is not defined",
     "output_type": "error",
     "traceback": [
      "\u001b[0;31m---------------------------------------------------------------------------\u001b[0m",
      "\u001b[0;31mNameError\u001b[0m                                 Traceback (most recent call last)",
      "\u001b[0;32m/tmp/ipykernel_142114/2122472756.py\u001b[0m in \u001b[0;36m<module>\u001b[0;34m\u001b[0m\n\u001b[0;32m----> 1\u001b[0;31m \u001b[0msave\u001b[0m \u001b[0;34m=\u001b[0m \u001b[0;34m[\u001b[0m\u001b[0;34m(\u001b[0m\u001b[0;34m*\u001b[0m\u001b[0mpoint\u001b[0m\u001b[0;34m,\u001b[0m \u001b[0mc\u001b[0m\u001b[0;34m)\u001b[0m \u001b[0;32mfor\u001b[0m \u001b[0mpoint\u001b[0m\u001b[0;34m,\u001b[0m\u001b[0mc\u001b[0m \u001b[0;32min\u001b[0m \u001b[0mzip\u001b[0m\u001b[0;34m(\u001b[0m\u001b[0mpoints\u001b[0m\u001b[0;34m,\u001b[0m \u001b[0mcity\u001b[0m\u001b[0;34m)\u001b[0m\u001b[0;34m]\u001b[0m\u001b[0;34m\u001b[0m\u001b[0;34m\u001b[0m\u001b[0m\n\u001b[0m\u001b[1;32m      2\u001b[0m \u001b[0mnp\u001b[0m\u001b[0;34m.\u001b[0m\u001b[0msave\u001b[0m\u001b[0;34m(\u001b[0m\u001b[0;34m\"point-final\"\u001b[0m\u001b[0;34m,\u001b[0m \u001b[0msave\u001b[0m\u001b[0;34m)\u001b[0m\u001b[0;34m\u001b[0m\u001b[0;34m\u001b[0m\u001b[0m\n\u001b[1;32m      3\u001b[0m \u001b[0mnp\u001b[0m\u001b[0;34m.\u001b[0m\u001b[0msave\u001b[0m\u001b[0;34m(\u001b[0m\u001b[0;34m\"edge-final\"\u001b[0m\u001b[0;34m,\u001b[0m \u001b[0medges\u001b[0m\u001b[0;34m)\u001b[0m\u001b[0;34m\u001b[0m\u001b[0;34m\u001b[0m\u001b[0m\n",
      "\u001b[0;31mNameError\u001b[0m: name 'points' is not defined"
     ]
    }
   ],
   "source": [
    "save = [(*point, c) for point,c in zip(points, city)]\n",
    "np.save(\"point-final\", save)\n",
    "np.save(\"edge-final\", edges)"
   ]
  },
  {
   "cell_type": "code",
   "execution_count": null,
   "metadata": {},
   "outputs": [
    {
     "ename": "NameError",
     "evalue": "name 'np' is not defined",
     "output_type": "error",
     "traceback": [
      "\u001b[1;31m---------------------------------------------------------------------------\u001b[0m",
      "\u001b[1;31mNameError\u001b[0m                                 Traceback (most recent call last)",
      "\u001b[1;32mC:\\Users\\ADMINI~1\\AppData\\Local\\Temp/ipykernel_16888/2037845773.py\u001b[0m in \u001b[0;36m<module>\u001b[1;34m\u001b[0m\n\u001b[1;32m----> 1\u001b[1;33m \u001b[0mpoints\u001b[0m \u001b[1;33m=\u001b[0m \u001b[0mnp\u001b[0m\u001b[1;33m.\u001b[0m\u001b[0mload\u001b[0m\u001b[1;33m(\u001b[0m\u001b[1;34m\"./point-final.npy\"\u001b[0m\u001b[1;33m)\u001b[0m\u001b[1;33m\u001b[0m\u001b[1;33m\u001b[0m\u001b[0m\n\u001b[0m\u001b[0;32m      2\u001b[0m \u001b[0mprint\u001b[0m\u001b[1;33m(\u001b[0m\u001b[0mpoints\u001b[0m\u001b[1;33m.\u001b[0m\u001b[0mshape\u001b[0m\u001b[1;33m)\u001b[0m\u001b[1;33m\u001b[0m\u001b[1;33m\u001b[0m\u001b[0m\n\u001b[0;32m      3\u001b[0m \u001b[1;32mfor\u001b[0m \u001b[0mpoint\u001b[0m \u001b[1;32min\u001b[0m \u001b[0mpoints\u001b[0m\u001b[1;33m[\u001b[0m\u001b[1;33m:\u001b[0m\u001b[1;33m,\u001b[0m\u001b[1;33m:\u001b[0m\u001b[1;36m2\u001b[0m\u001b[1;33m]\u001b[0m\u001b[1;33m.\u001b[0m\u001b[0mastype\u001b[0m\u001b[1;33m(\u001b[0m\u001b[0mint\u001b[0m\u001b[1;33m)\u001b[0m\u001b[1;33m:\u001b[0m\u001b[1;33m\u001b[0m\u001b[1;33m\u001b[0m\u001b[0m\n\u001b[0;32m      4\u001b[0m     \u001b[0mstr\u001b[0m \u001b[1;33m=\u001b[0m \u001b[1;34m\"{\"\u001b[0m\u001b[1;33m\u001b[0m\u001b[1;33m\u001b[0m\u001b[0m\n\u001b[0;32m      5\u001b[0m     \u001b[0mstr\u001b[0m \u001b[1;33m+=\u001b[0m \u001b[1;34mf\"32'd{point[0]}, 32'd{point[1]}\"\u001b[0m\u001b[1;33m\u001b[0m\u001b[1;33m\u001b[0m\u001b[0m\n",
      "\u001b[1;31mNameError\u001b[0m: name 'np' is not defined"
     ]
    }
   ],
   "source": [
    "points = np.load(\"./point-final.npy\")\n",
    "print(points.shape)\n",
    "for point in points[:,:2].astype(int):\n",
    "    str = \"{\"\n",
    "    str += f\"32'd{point[0]}, 32'd{point[1]}\"\n",
    "    str += \"},\"\n",
    "    print(str)"
   ]
  },
  {
   "cell_type": "code",
   "execution_count": null,
   "metadata": {},
   "outputs": [
    {
     "data": {
      "application/vnd.jupyter.widget-view+json": {
       "model_id": "8e42f694dbdf4dd493e05c40ee175e72",
       "version_major": 2,
       "version_minor": 0
      },
      "text/plain": [
       "  0%|          | 0/97 [00:00<?, ?it/s]"
      ]
     },
     "metadata": {},
     "output_type": "display_data"
    }
   ],
   "source": [
    "def generate(bitwidth=2,data=None, output=None, varname=\"DATA\"):\n",
    "    assert data is not None, \"please provide data\"\n",
    "    assert output is not None, \"please provide output filename\"\n",
    "    h = data.shape[0]-1\n",
    "    w = data.shape[1]-1\n",
    "    if bitwidth == 1:\n",
    "        str = f\"parameter [{h}:0][{w}:0] {varname}=\"\n",
    "    else:\n",
    "        str = f\"parameter [{h}:0][{w}:0][{bitwidth-1}:0] {varname}=\"\n",
    "    str += \"{\"\n",
    "    for row in data:\n",
    "        row_str = \"{\"\n",
    "        for pixel in row:\n",
    "            if bitwidth > 1:\n",
    "                row_str += f\"{bitwidth}'d{int(pixel)},\"\n",
    "            else:\n",
    "                row_str += f\"{bitwidth}'b{int(pixel)},\"\n",
    "        row_str += \"},\"\n",
    "        str += row_str + \"\\n\"\n",
    "    str += \"};\\n\"\n",
    "    with open(output, \"a\") as f:\n",
    "        f.write(f\"// {varname}\")\n",
    "        f.write(\"\\n\")\n",
    "        f.write(str)\n",
    "        f.write(\"\\n\")\n",
    "\n",
    "from tqdm.notebook import tqdm\n",
    "points = np.load(\"./point-final.npy\")\n",
    "for city in tqdm(points[:,2]):\n",
    "    city_bitmap = np.zeros((30,150))    \n",
    "    cv2.putText(city_bitmap, city, (5,19), cv2.FONT_HERSHEY_COMPLEX, 0.5, 255)\n",
    "    # cv2.imshow(\"city\", city_bitmap)\n",
    "    # cv2.waitKey(0)\n",
    "    # cv2.destroyAllWindows()\n",
    "    # print(city)\n",
    "    city_bitmap = np.where(city_bitmap == 255, 1, 0).astype(int)\n",
    "    generate(bitwidth=1, data=city_bitmap, output=\"./city_list.txt\", varname=city.replace(\" \", \"\"))"
   ]
  },
  {
   "cell_type": "markdown",
   "metadata": {},
   "source": [
    "To make the program bug-free, we need to convert the location names free from blank spaces."
   ]
  },
  {
   "cell_type": "code",
   "execution_count": null,
   "metadata": {},
   "outputs": [
    {
     "name": "stdout",
     "output_type": "stream",
     "text": [
      "after scaling:  [['20' '60']\n",
      " ['40' '110']\n",
      " ['47' '171']\n",
      " ['68' '450']\n",
      " ['79' '438']\n",
      " ['91' '418']\n",
      " ['108' '408']\n",
      " ['92' '390']\n",
      " ['68' '367']\n",
      " ['81' '258']\n",
      " ['81' '178']\n",
      " ['80' '143']\n",
      " ['74' '121']\n",
      " ['45' '59']\n",
      " ['100' '10']\n",
      " ['97' '70']\n",
      " ['106' '191']\n",
      " ['116' '74']\n",
      " ['138' '56']\n",
      " ['175' '47']\n",
      " ['236' '41']\n",
      " ['154' '282']\n",
      " ['169' '343']\n",
      " ['180' '406']\n",
      " ['218' '407']\n",
      " ['255' '408']\n",
      " ['226' '374']\n",
      " ['220' '306']\n",
      " ['248' '283']\n",
      " ['249' '218']\n",
      " ['184' '238']\n",
      " ['240' '148']\n",
      " ['205' '104']\n",
      " ['134' '84']\n",
      " ['294' '80']\n",
      " ['310' '38']\n",
      " ['243' '459']\n",
      " ['210' '473']\n",
      " ['234' '436']\n",
      " ['277' '443']\n",
      " ['279' '421']\n",
      " ['375' '426']\n",
      " ['372' '462']\n",
      " ['422' '424']\n",
      " ['418' '467']\n",
      " ['472' '424']\n",
      " ['495' '423']\n",
      " ['543' '421']\n",
      " ['573' '420']\n",
      " ['615' '418']\n",
      " ['577' '381']\n",
      " ['583' '330']\n",
      " ['581' '298']\n",
      " ['587' '284']\n",
      " ['540' '243']\n",
      " ['566' '212']\n",
      " ['572' '180']\n",
      " ['572' '146']\n",
      " ['564' '76']\n",
      " ['557' '52']\n",
      " ['553' '16']\n",
      " ['586' '19']\n",
      " ['488' '22']\n",
      " ['486' '47']\n",
      " ['467' '151']\n",
      " ['451' '212']\n",
      " ['471' '210']\n",
      " ['405' '210']\n",
      " ['445' '237']\n",
      " ['438' '295']\n",
      " ['389' '298']\n",
      " ['430' '325']\n",
      " ['426' '347']\n",
      " ['476' '329']\n",
      " ['500' '325']\n",
      " ['488' '295']\n",
      " ['542' '106']\n",
      " ['516' '106']\n",
      " ['456' '396']\n",
      " ['493' '377']\n",
      " ['348' '375']\n",
      " ['307' '389']\n",
      " ['310' '339']\n",
      " ['347' '329']\n",
      " ['352' '298']\n",
      " ['364' '256']\n",
      " ['373' '211']\n",
      " ['396' '151']\n",
      " ['426' '108']\n",
      " ['300' '201']\n",
      " ['337' '158']\n",
      " ['385' '70']\n",
      " ['335' '110']\n",
      " ['414' '30']\n",
      " ['387' '31']\n",
      " ['355' '36']\n",
      " ['330' '242']]\n"
     ]
    }
   ],
   "source": [
    "import numpy as np\n",
    "points = np.load('point-final.npy')\n",
    "counter = 0\n",
    "# print(\"before scaling: \", points[:, 0:2])\n",
    "\n",
    "for i in points[:, 2]:\n",
    "    points[counter][2] = i.replace(' ', '').replace('.', '')\n",
    "    points[counter][0] = round(int(points[counter][0])*640/1000)\n",
    "    points[counter][1] = round(int(points[counter][1])*480/600)\n",
    "    counter += 1\n",
    "\n",
    "print(\"after scaling: \", points[:, 0:2])\n",
    "np.save(\"point-final-noblank\", points)"
   ]
  },
  {
   "cell_type": "code",
   "execution_count": null,
   "metadata": {},
   "outputs": [],
   "source": []
  }
 ],
 "metadata": {
  "interpreter": {
   "hash": "e8f5829479713b4192093ffecd1c7714acc5f8081a5f881282bde25ad595ba9b"
  },
  "kernelspec": {
   "display_name": "Python 3.8.8 64-bit ('base': conda)",
   "language": "python",
   "name": "python3"
  },
  "language_info": {
   "codemirror_mode": {
    "name": "ipython",
    "version": 3
   },
   "file_extension": ".py",
   "mimetype": "text/x-python",
   "name": "python",
   "nbconvert_exporter": "python",
   "pygments_lexer": "ipython3",
   "version": "3.8.10"
  },
  "orig_nbformat": 4
 },
 "nbformat": 4,
 "nbformat_minor": 2
}
