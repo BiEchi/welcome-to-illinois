{
 "cells": [
  {
   "cell_type": "markdown",
   "metadata": {},
   "source": [
    "The software part is shown below."
   ]
  },
  {
   "cell_type": "code",
   "execution_count": 4,
   "metadata": {},
   "outputs": [],
   "source": [
    "import numpy as np\n",
    "import cv2\n",
    "\n",
    "# load the points\n",
    "points = np.load(\"./point-1231.npy\")"
   ]
  },
  {
   "cell_type": "code",
   "execution_count": 5,
   "metadata": {},
   "outputs": [],
   "source": [
    "string=''\n",
    "for i in range(len(points)):\n",
    "    string_row  = 'if (strcmp(a,\"' + \\\n",
    "            points[i][2][0:3] + \\\n",
    "            '\") == 0) { m = ' + \\\n",
    "            str(i) + \\\n",
    "            '; }'\n",
    "    string += string_row \n",
    "    string += \"\\n\"\n",
    "\n",
    "with open('./index_array.txt', \"w\") as f:\n",
    "    f.write(string)"
   ]
  },
  {
   "cell_type": "code",
   "execution_count": 6,
   "metadata": {},
   "outputs": [],
   "source": [
    "string='{'\n",
    "for i in range(len(points)):\n",
    "    string_row = '{' + \\\n",
    "            str(points[i][0]) + \\\n",
    "            ', ' + \\\n",
    "            str(points[i][1]) + \\\n",
    "            '},'\n",
    "    string += string_row \n",
    "    string += \"\\n\"\n",
    "string += \"};\"\n",
    "\n",
    "with open('./position_array.txt', \"w\") as f:\n",
    "    f.write(string)"
   ]
  },
  {
   "cell_type": "markdown",
   "metadata": {},
   "source": [
    "Now let's take a look at the edges. How are they presented?"
   ]
  },
  {
   "cell_type": "code",
   "execution_count": 7,
   "metadata": {},
   "outputs": [],
   "source": [
    "import numpy as np\n",
    "import cv2\n",
    "\n",
    "# load the points after scaling\n",
    "edges = np.load(\"./edge-0101.npy\", allow_pickle=True)"
   ]
  },
  {
   "cell_type": "code",
   "execution_count": 8,
   "metadata": {},
   "outputs": [],
   "source": [
    "string='{'\n",
    "for i in range(len(edges)):\n",
    "    string_row = '{' + \\\n",
    "            str(edges[i][0]) + \\\n",
    "            ', ' + \\\n",
    "            str(edges[i][1]) + \\\n",
    "            ', ' + \\\n",
    "            str(i) + \\\n",
    "            '},\\n' + \\\n",
    "            '{' + \\\n",
    "            str(edges[i][1]) + \\\n",
    "            ', ' + \\\n",
    "            str(edges[i][0]) + \\\n",
    "            ', ' + \\\n",
    "            str(i) + \\\n",
    "            '},'\n",
    "    string += string_row \n",
    "    string += \"\\n\"\n",
    "string += \"};\"\n",
    "\n",
    "with open('./edge_index_array.txt', \"w\") as f:\n",
    "    f.write(string)"
   ]
  },
  {
   "cell_type": "code",
   "execution_count": null,
   "metadata": {},
   "outputs": [],
   "source": [
    "def euclidean_distances(i_x, i_y, j_x, j_y):\n",
    "    return int(np.round(np.sqrt((i_x - j_x) ** 2 + (i_y - j_y) ** 2)))\n",
    "\n",
    "string='{'\n",
    "for i in range(len(points)):\n",
    "    string_row = '{' \n",
    "    for j in range(len(points)):\n",
    "        tuple = np.array([i, j])\n",
    "        tuple_reversed = np.array([j, i])\n",
    "        found_flag = 0\n",
    "        if i == j:\n",
    "            string_row += '0'\n",
    "            found_flag = 1\n",
    "        for m in range(len(edges)):\n",
    "            if ((tuple == edges[m])[0] and (tuple == edges[m])[1]) or ((tuple_reversed == edges[m])[0] and (tuple_reversed == edges[m])[1]):\n",
    "                string_row += str(euclidean_distances(int(points[i][0]), int(points[i][1]), int(points[j][0]), int(points[j][1])))\n",
    "                found_flag = 1\n",
    "                break\n",
    "        if found_flag == 0:\n",
    "            string_row += 'X'\n",
    "        string_row += ', '\n",
    "\n",
    "    string += string_row \n",
    "    string += \"},\\n\"\n",
    "string += \"};\"                                  \n",
    "\n",
    "with open('./map.txt', \"w\") as f:\n",
    "    f.write(string)"
   ]
  },
  {
   "cell_type": "code",
   "execution_count": null,
   "metadata": {},
   "outputs": [],
   "source": []
  }
 ],
 "metadata": {
  "interpreter": {
   "hash": "916dbcbb3f70747c44a77c7bcd40155683ae19c65e1c03b4aa3499c5328201f1"
  },
  "kernelspec": {
   "display_name": "Python 3.8.10 64-bit",
   "language": "python",
   "name": "python3"
  },
  "language_info": {
   "codemirror_mode": {
    "name": "ipython",
    "version": 3
   },
   "file_extension": ".py",
   "mimetype": "text/x-python",
   "name": "python",
   "nbconvert_exporter": "python",
   "pygments_lexer": "ipython3",
   "version": "3.8.10"
  },
  "orig_nbformat": 4
 },
 "nbformat": 4,
 "nbformat_minor": 2
}
